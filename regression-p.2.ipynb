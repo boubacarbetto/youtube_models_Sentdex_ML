{
 "cells": [
  {
   "cell_type": "code",
   "execution_count": 1,
   "id": "9452838e",
   "metadata": {},
   "outputs": [],
   "source": [
    "import pandas as pd\n",
    "import quandl"
   ]
  },
  {
   "cell_type": "code",
   "execution_count": 2,
   "id": "a8b1a6c5",
   "metadata": {},
   "outputs": [],
   "source": [
    "df = quandl.get('WIKI/GOOGL')"
   ]
  },
  {
   "cell_type": "code",
   "execution_count": 3,
   "id": "8a73d875",
   "metadata": {},
   "outputs": [
    {
     "name": "stdout",
     "output_type": "stream",
     "text": [
      "              Open    High     Low    Close      Volume  Ex-Dividend  \\\n",
      "Date                                                                   \n",
      "2004-08-19  100.01  104.06   95.96  100.335  44659000.0          0.0   \n",
      "2004-08-20  101.01  109.08  100.50  108.310  22834300.0          0.0   \n",
      "2004-08-23  110.76  113.48  109.05  109.400  18256100.0          0.0   \n",
      "2004-08-24  111.24  111.60  103.57  104.870  15247300.0          0.0   \n",
      "2004-08-25  104.76  108.00  103.88  106.000   9188600.0          0.0   \n",
      "\n",
      "            Split Ratio  Adj. Open  Adj. High   Adj. Low  Adj. Close  \\\n",
      "Date                                                                   \n",
      "2004-08-19          1.0  50.159839  52.191109  48.128568   50.322842   \n",
      "2004-08-20          1.0  50.661387  54.708881  50.405597   54.322689   \n",
      "2004-08-23          1.0  55.551482  56.915693  54.693835   54.869377   \n",
      "2004-08-24          1.0  55.792225  55.972783  51.945350   52.597363   \n",
      "2004-08-25          1.0  52.542193  54.167209  52.100830   53.164113   \n",
      "\n",
      "            Adj. Volume  \n",
      "Date                     \n",
      "2004-08-19   44659000.0  \n",
      "2004-08-20   22834300.0  \n",
      "2004-08-23   18256100.0  \n",
      "2004-08-24   15247300.0  \n",
      "2004-08-25    9188600.0  \n"
     ]
    }
   ],
   "source": [
    "print(df.head())"
   ]
  },
  {
   "cell_type": "code",
   "execution_count": 4,
   "id": "6b4130df",
   "metadata": {},
   "outputs": [],
   "source": [
    "#df = quandl.get('BATS/BATS_GOOGL\", authtoken=\"_csNr4TjmrKzfvyMC-CZ\", start_date=\"1970-01-01\", end_date=\"1970-01-01')"
   ]
  },
  {
   "cell_type": "code",
   "execution_count": 5,
   "id": "096564f1",
   "metadata": {},
   "outputs": [],
   "source": [
    "df = df[['Adj. Open','Adj. High','Adj. Low','Adj. Close','Adj. Volume']]"
   ]
  },
  {
   "cell_type": "code",
   "execution_count": 6,
   "id": "7f275fa0",
   "metadata": {},
   "outputs": [],
   "source": [
    "df['HL_PCT'] = (df['Adj. High'] - df['Adj. Close']) / df['Adj. Close'] * 100.0"
   ]
  },
  {
   "cell_type": "code",
   "execution_count": 7,
   "id": "c7f1fce6",
   "metadata": {},
   "outputs": [],
   "source": [
    "df['PCT_change'] = (df['Adj. Close'] - df['Adj. Open']) / df['Adj. Open'] * 100.0"
   ]
  },
  {
   "cell_type": "code",
   "execution_count": 8,
   "id": "4602f87c",
   "metadata": {},
   "outputs": [],
   "source": [
    "df = df[['Adj. Close', 'HL_PCT','PCT_change','Adj. Volume']]"
   ]
  },
  {
   "cell_type": "code",
   "execution_count": 9,
   "id": "d8ebc402",
   "metadata": {},
   "outputs": [
    {
     "name": "stdout",
     "output_type": "stream",
     "text": [
      "            Adj. Close    HL_PCT  PCT_change  Adj. Volume\n",
      "Date                                                     \n",
      "2004-08-19   50.322842  3.712563    0.324968   44659000.0\n",
      "2004-08-20   54.322689  0.710922    7.227007   22834300.0\n",
      "2004-08-23   54.869377  3.729433   -1.227880   18256100.0\n",
      "2004-08-24   52.597363  6.417469   -5.726357   15247300.0\n",
      "2004-08-25   53.164113  1.886792    1.183658    9188600.0\n"
     ]
    }
   ],
   "source": [
    "print(df.head())"
   ]
  },
  {
   "cell_type": "code",
   "execution_count": 10,
   "id": "304ded29",
   "metadata": {},
   "outputs": [],
   "source": [
    "forecast_col =  'Adj. Close'\n",
    "df.fillna(-99999, inplace=True)\n"
   ]
  },
  {
   "cell_type": "code",
   "execution_count": 11,
   "id": "dc66d281",
   "metadata": {},
   "outputs": [
    {
     "name": "stdout",
     "output_type": "stream",
     "text": [
      "343\n",
      "            Adj. Close    HL_PCT  PCT_change  Adj. Volume       label\n",
      "Date                                                                 \n",
      "2004-08-19   50.322842  3.712563    0.324968   44659000.0  214.005615\n",
      "2004-08-20   54.322689  0.710922    7.227007   22834300.0  210.725489\n",
      "2004-08-23   54.869377  3.729433   -1.227880   18256100.0  208.072299\n",
      "2004-08-24   52.597363  6.417469   -5.726357   15247300.0  218.288837\n",
      "2004-08-25   53.164113  1.886792    1.183658    9188600.0  223.309335\n"
     ]
    }
   ],
   "source": [
    "import math\n",
    "\n",
    "forecast_out = int(math.ceil(0.1 * len(df)))\n",
    "df['label'] = df[forecast_col].shift(-forecast_out)\n",
    "print(forecast_out)\n",
    "print(df.head())"
   ]
  },
  {
   "cell_type": "code",
   "execution_count": 12,
   "id": "87810362",
   "metadata": {},
   "outputs": [
    {
     "name": "stdout",
     "output_type": "stream",
     "text": [
      "            Adj. Close    HL_PCT  PCT_change  Adj. Volume    label\n",
      "Date                                                              \n",
      "2016-11-04      781.10  0.944821    1.270582    1970603.0  1094.00\n",
      "2016-11-07      802.03  0.370310    0.890622    1992570.0  1053.15\n",
      "2016-11-08      811.98  0.500012    1.240602    1769069.0  1026.55\n",
      "2016-11-09      805.59  0.759692    0.468927    3098510.0  1054.09\n",
      "2016-11-10      780.29  3.815248   -3.667901    5909609.0  1006.94\n"
     ]
    }
   ],
   "source": [
    "df.dropna(inplace=True)\n",
    "print(df.tail())"
   ]
  },
  {
   "cell_type": "code",
   "execution_count": 13,
   "id": "1e14fdb7",
   "metadata": {},
   "outputs": [
    {
     "name": "stdout",
     "output_type": "stream",
     "text": [
      "31\n",
      "            Adj. Close    HL_PCT  PCT_change  Adj. Volume      label\n",
      "Date                                                                \n",
      "2004-08-19   50.322842  3.712563    0.324968   44659000.0  67.739104\n",
      "2004-08-20   54.322689  0.710922    7.227007   22834300.0  69.399229\n",
      "2004-08-23   54.869377  3.729433   -1.227880   18256100.0  68.752232\n",
      "2004-08-24   52.597363  6.417469   -5.726357   15247300.0  69.639972\n",
      "2004-08-25   53.164113  1.886792    1.183658    9188600.0  69.078238\n"
     ]
    }
   ],
   "source": [
    "forecast_out = int(math.ceil(0.01 * len(df)))\n",
    "df['label'] = df[forecast_col].shift(-forecast_out)\n",
    "df.dropna(inplace=True)\n",
    "print(forecast_out)\n",
    "print(df.head())"
   ]
  },
  {
   "cell_type": "markdown",
   "id": "8dba03ee",
   "metadata": {},
   "source": [
    "# Regression Training and Testing"
   ]
  },
  {
   "cell_type": "code",
   "execution_count": 14,
   "id": "8f886ca7",
   "metadata": {},
   "outputs": [
    {
     "name": "stdout",
     "output_type": "stream",
     "text": [
      "0.97156314140321\n"
     ]
    },
    {
     "name": "stderr",
     "output_type": "stream",
     "text": [
      "/var/folders/58/j_8hz7px0l30bjvcrr05krz00000gn/T/ipykernel_12246/1981636452.py:6: FutureWarning: In a future version of pandas all arguments of DataFrame.drop except for the argument 'labels' will be keyword-only\n",
      "  x = np.array(df.drop(['label'],1))\n"
     ]
    }
   ],
   "source": [
    "import numpy as np\n",
    "from sklearn import preprocessing, svm\n",
    "from sklearn.model_selection import train_test_split\n",
    "from sklearn.linear_model import LinearRegression\n",
    "\n",
    "x = np.array(df.drop(['label'],1))\n",
    "y = np.array(df['label'])\n",
    "\n",
    "x = preprocessing.scale(x)\n",
    "\n",
    "\n",
    "y = np.array(df['label'])\n",
    "\n",
    "x_train, x_test, y_train, y_test = train_test_split(x, y, test_size=0.2)\n",
    "\n",
    "\n",
    "clf = LinearRegression()\n",
    "clf.fit(x_train, y_train)\n",
    "\n",
    "accuracy = clf.score(x_test, y_test)\n",
    "\n",
    "print(accuracy)\n",
    "\n",
    "#print(len(x), len(y))"
   ]
  },
  {
   "cell_type": "code",
   "execution_count": 15,
   "id": "4e778a40",
   "metadata": {},
   "outputs": [
    {
     "name": "stdout",
     "output_type": "stream",
     "text": [
      "0.7967079529592376\n"
     ]
    }
   ],
   "source": [
    "clf = svm.SVR()\n",
    "clf.fit(x_train, y_train)\n",
    "\n",
    "accuracy = clf.score(x_test, y_test)\n",
    "\n",
    "print(accuracy)"
   ]
  },
  {
   "cell_type": "code",
   "execution_count": 16,
   "id": "fb7a6d23",
   "metadata": {},
   "outputs": [
    {
     "name": "stdout",
     "output_type": "stream",
     "text": [
      "0.7148414914044499\n"
     ]
    }
   ],
   "source": [
    "clf = svm.SVR(kernel='poly')\n",
    "clf.fit(x_train, y_train)\n",
    "\n",
    "accuracy = clf.score(x_test, y_test)\n",
    "\n",
    "print(accuracy)"
   ]
  },
  {
   "cell_type": "code",
   "execution_count": 17,
   "id": "de3ebc40",
   "metadata": {},
   "outputs": [
    {
     "name": "stdout",
     "output_type": "stream",
     "text": [
      "0.97156314140321\n"
     ]
    }
   ],
   "source": [
    "clf = LinearRegression(n_jobs=-1) #10 or 2 or so on\n",
    "clf.fit(x_train, y_train)\n",
    "\n",
    "accuracy = clf.score(x_test, y_test)\n",
    "\n",
    "print(accuracy)"
   ]
  },
  {
   "cell_type": "markdown",
   "id": "24dc1ccb",
   "metadata": {},
   "source": [
    "# Forecasting and Predicting"
   ]
  },
  {
   "cell_type": "code",
   "execution_count": 18,
   "id": "0c5b4231",
   "metadata": {},
   "outputs": [
    {
     "name": "stdout",
     "output_type": "stream",
     "text": [
      "0.9666122632697131\n"
     ]
    },
    {
     "name": "stderr",
     "output_type": "stream",
     "text": [
      "/var/folders/58/j_8hz7px0l30bjvcrr05krz00000gn/T/ipykernel_12246/741299155.py:3: FutureWarning: In a future version of pandas all arguments of DataFrame.drop except for the argument 'labels' will be keyword-only\n",
      "  x = np.array(df.drop(['label'],1))\n"
     ]
    }
   ],
   "source": [
    "forecast_out = int(math.ceil(0.01 * len(df)))\n",
    "df['label'] = df[forecast_col].shift(-forecast_out)\n",
    "x = np.array(df.drop(['label'],1))\n",
    "x = x[:-forecast_out]\n",
    "x_lately = x[-forecast_out:]\n",
    "\n",
    "x = preprocessing.scale(x)\n",
    "\n",
    "df.dropna(inplace=True)\n",
    "y = np.array(df['label'])\n",
    "y = np.array(df['label'])\n",
    "\n",
    "x_train, x_test, y_train, y_test = train_test_split(x, y, test_size=0.2)\n",
    "\n",
    "\n",
    "clf = LinearRegression(n_jobs=-1)\n",
    "clf.fit(x_train, y_train)\n",
    "\n",
    "accuracy = clf.score(x_test, y_test)\n",
    "\n",
    "print(accuracy)"
   ]
  },
  {
   "cell_type": "code",
   "execution_count": 19,
   "id": "25478faf",
   "metadata": {},
   "outputs": [
    {
     "name": "stdout",
     "output_type": "stream",
     "text": [
      "[ -5435906.72409012  -4980385.47425699  -5062597.25774458\n",
      "  -3675415.28462089  -5248447.6050357   -5044952.09814113\n",
      "  -4640314.08082904  -3539084.97033011  -3712190.56038579\n",
      "  -5675295.14532778  -6813298.05093362  -5329991.18673711\n",
      "  -3905053.62368663  -3287724.86806256  -3620676.17546556\n",
      "  -3718959.94434615  -4136383.13582674  -5640108.53776362\n",
      " -13052553.8741585  -18136915.62378205 -10735591.95221157\n",
      "  -7025620.97307616  -5103716.22314538  -3721678.15989712\n",
      "  -6345503.46123842  -4242964.60929159  -5628785.75055257\n",
      "  -3154113.18685386  -4460257.61552284  -3078137.81184265\n",
      "  -3196068.93698144] 0.9654809720156228 31\n"
     ]
    }
   ],
   "source": [
    "df.dropna(inplace=True)\n",
    "y = np.array(df['label'])\n",
    "y = np.array(df['label'])\n",
    "\n",
    "x_train, x_test, y_train, y_test = train_test_split(x, y, test_size=0.2)\n",
    "\n",
    "\n",
    "clf = LinearRegression(n_jobs=-1)\n",
    "clf.fit(x_train, y_train)\n",
    "\n",
    "accuracy = clf.score(x_test, y_test)\n",
    "\n",
    "forecast_set = clf.predict(x_lately)\n",
    "\n",
    "print(forecast_set, accuracy, forecast_out)"
   ]
  },
  {
   "cell_type": "markdown",
   "id": "7afc4bfd",
   "metadata": {},
   "source": [
    "# Regression forecasting and predicting"
   ]
  },
  {
   "cell_type": "code",
   "execution_count": 20,
   "id": "3b530ef6",
   "metadata": {
    "scrolled": true
   },
   "outputs": [
    {
     "data": {
      "image/png": "[encoded data removed]",
      "text/plain": [
       "<Figure size 432x288 with 1 Axes>"
      ]
     },
     "metadata": {},
     "output_type": "display_data"
    }
   ],
   "source": [
    "import datetime\n",
    "import matplotlib.pyplot as plt\n",
    "from matplotlib import style\n",
    "\n",
    "\n",
    "style.use('ggplot')\n",
    "\n",
    "df['Forecast'] = np.nan\n",
    "\n",
    "last_date = df.iloc[-1].name\n",
    "last_unix = last_date.timestamp()\n",
    "one_day = 86400\n",
    "next_unix = last_unix + one_day\n",
    "\n",
    "for i in forecast_set:\n",
    "    next_date = datetime.datetime.fromtimestamp(next_unix)\n",
    "    next_unix += one_day\n",
    "    df.loc[next_date] = [np.nan for _ in range(len(df.columns)-1)] + [i]\n",
    "    \n",
    "df['Adj. Close'].plot()\n",
    "df['Forecast'].plot()\n",
    "plt.legend(loc=4)\n",
    "plt.xlabel('Date')\n",
    "plt.ylabel('Price')\n",
    "plt.show()"
   ]
  },
  {
   "cell_type": "markdown",
   "id": "7293966c",
   "metadata": {},
   "source": [
    "# Pickling and Scaling"
   ]
  },
  {
   "cell_type": "code",
   "execution_count": 21,
   "id": "6c46c524",
   "metadata": {},
   "outputs": [],
   "source": [
    "import pickle"
   ]
  },
  {
   "cell_type": "code",
   "execution_count": 22,
   "id": "474467ca",
   "metadata": {},
   "outputs": [
    {
     "data": {
      "image/png": "[encoded data removed]",
      "text/plain": [
       "<Figure size 432x288 with 1 Axes>"
      ]
     },
     "metadata": {},
     "output_type": "display_data"
    }
   ],
   "source": [
    "clf = LinearRegression(n_jobs=-1)\n",
    "clf.fit(x_train, y_train)\n",
    "with open('linearregression.pickle','wb') as f:\n",
    "    pickle.dump(clf, f)\n",
    "\n",
    "pickle_in = open('linearregression.pickle','rb')\n",
    "clf = pickle.load(pickle_in)\n",
    "\n",
    "df['Forecast'] = np.nan\n",
    "\n",
    "last_date = df.iloc[-1].name\n",
    "last_unix = last_date.timestamp()\n",
    "one_day = 86400\n",
    "next_unix = last_unix + one_day\n",
    "\n",
    "for i in forecast_set:\n",
    "    next_date = datetime.datetime.fromtimestamp(next_unix)\n",
    "    next_unix += one_day\n",
    "    df.loc[next_date] = [np.nan for _ in range(len(df.columns)-1)] + [i]\n",
    "    \n",
    "df['Adj. Close'].plot()\n",
    "df['Forecast'].plot()\n",
    "plt.legend(loc=4)\n",
    "plt.xlabel('Date')\n",
    "plt.ylabel('Price')\n",
    "plt.show()"
   ]
  },
  {
   "cell_type": "code",
   "execution_count": 23,
   "id": "2879ab07",
   "metadata": {},
   "outputs": [
    {
     "data": {
      "image/png": "[encoded data removed]",
      "text/plain": [
       "<Figure size 432x288 with 1 Axes>"
      ]
     },
     "metadata": {},
     "output_type": "display_data"
    }
   ],
   "source": [
    "pickle_in = open('linearregression.pickle','rb')\n",
    "clf = pickle.load(pickle_in)\n",
    "\n",
    "df['Forecast'] = np.nan\n",
    "\n",
    "last_date = df.iloc[-1].name\n",
    "last_unix = last_date.timestamp()\n",
    "one_day = 86400\n",
    "next_unix = last_unix + one_day\n",
    "\n",
    "for i in forecast_set:\n",
    "    next_date = datetime.datetime.fromtimestamp(next_unix)\n",
    "    next_unix += one_day\n",
    "    df.loc[next_date] = [np.nan for _ in range(len(df.columns)-1)] + [i]\n",
    "    \n",
    "df['Adj. Close'].plot()\n",
    "df['Forecast'].plot()\n",
    "plt.legend(loc=4)\n",
    "plt.xlabel('Date')\n",
    "plt.ylabel('Price')\n",
    "plt.show()"
   ]
  },
  {
   "cell_type": "markdown",
   "id": "3a3d3811",
   "metadata": {},
   "source": [
    "#Regression How it Works"
   ]
  },
  {
   "cell_type": "markdown",
   "id": "2dd05bb2",
   "metadata": {},
   "source": [
    "# How to program the Best Fit Slope"
   ]
  },
  {
   "cell_type": "code",
   "execution_count": 27,
   "id": "456e7162",
   "metadata": {},
   "outputs": [
    {
     "data": {
      "image/png": "[encoded data removed]",
      "text/plain": [
       "<Figure size 432x288 with 1 Axes>"
      ]
     },
     "metadata": {},
     "output_type": "display_data"
    }
   ],
   "source": [
    "from statistics import mean\n",
    "import numpy as np\n",
    "\n",
    "xs = [1,2,3,4,5,6]\n",
    "ys = [5,4,6,5,6,7]\n",
    "\n",
    "plt.scatter(xs, ys)\n",
    "plt.show()"
   ]
  },
  {
   "cell_type": "code",
   "execution_count": null,
   "id": "15cab13d",
   "metadata": {},
   "outputs": [],
   "source": [
    "xs = np.array([1,2,3,4,5,6], dtype=np.float64)\n",
    "ys = np.array([5,4,6,5,6,7], dtype=np.float64)\n",
    "\n",
    "def best_fit_slope(xs, ys):\n",
    "    return m\n",
    "\n",
    "m = best_fit_slope(xs,ys)\n",
    "\n"
   ]
  }
 ],
 "metadata": {
  "kernelspec": {
   "display_name": "Python 3 (ipykernel)",
   "language": "python",
   "name": "python3"
  },
  "language_info": {
   "codemirror_mode": {
    "name": "ipython",
    "version": 3
   },
   "file_extension": ".py",
   "mimetype": "text/x-python",
   "name": "python",
   "nbconvert_exporter": "python",
   "pygments_lexer": "ipython3",
   "version": "3.9.7"
  }
 },
 "nbformat": 4,
 "nbformat_minor": 5
}
